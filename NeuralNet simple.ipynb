{
 "cells": [
  {
   "cell_type": "code",
   "execution_count": 1,
   "metadata": {},
   "outputs": [],
   "source": [
    "import numpy as np\n",
    "import pandas as pd\n",
    "from sklearn.model_selection import train_test_split\n",
    "from mpl_toolkits.mplot3d import Axes3D\n",
    "import matplotlib.pyplot as plt\n",
    "\n",
    "from matplotlib.colors import ListedColormap\n",
    "cm_bright = ListedColormap(['#FF0000', '#0000FF'])\n",
    "%matplotlib inline\n",
    "from sklearn.metrics import accuracy_score\n",
    "\n",
    "import sklearn.linear_model"
   ]
  },
  {
   "cell_type": "code",
   "execution_count": 2,
   "metadata": {},
   "outputs": [],
   "source": [
    "def plot_surface(cls, x_1, x_2, ax=None, threshold=0.5, contourf=False):\n",
    "    xx1, xx2 = np.meshgrid(np.linspace(x_1.min(), x_1.max(), 100), \n",
    "                           np.linspace(x_2.min(), x_2.max(), 100))\n",
    "\n",
    "    X_pred = np.c_[xx1.ravel(), xx2.ravel()]\n",
    "    pred = cls.predict_proba(X_pred)[:, 0]\n",
    "    Z = pred.reshape((100, 100))\n",
    "    if ax is None:\n",
    "        ax = plt.gca()\n",
    "    ax.contour(xx1, xx2, Z, levels=[threshold], colors='black')\n",
    "    ax.set_xlim((x_1.min(), x_1.max()))\n",
    "    ax.set_ylim((x_2.min(), x_2.max()))"
   ]
  },
  {
   "cell_type": "code",
   "execution_count": 3,
   "metadata": {},
   "outputs": [],
   "source": [
    "def plot_data(X, y):\n",
    "    ax = plt.gca()\n",
    "    ax.scatter(X[:,0], X[:,1], c=(y == 1), cmap=cm_bright)"
   ]
  },
  {
   "cell_type": "code",
   "execution_count": 4,
   "metadata": {},
   "outputs": [],
   "source": [
    "class NeuralNet:\n",
    "    \"\"\"\n",
    "    NN for binary classification\n",
    "    Attributes:\n",
    "    ...\n",
    "    \"\"\"\n",
    "    \n",
    "    def __init__(self, normalize = True, learning_rate = 0.01, num_iter = 30000):\n",
    "        self.learning_rate = learning_rate\n",
    "        self.num_iter = num_iter\n",
    "        self.normalize = normalize\n",
    "    \n",
    "    def __normalize(self, X, mean = None, std = None):\n",
    "        n = X.shape[0]\n",
    "        m = mean\n",
    "        if m is None:\n",
    "            m = np.mean(X, axis=1).reshape((n, 1))\n",
    "        s = std\n",
    "        if s is None:\n",
    "            s = np.std(X, axis=1).reshape((n, 1))\n",
    "        X_new = (X - m) / s**2\n",
    "        return X_new, m, s\n",
    "\n",
    "    def __sigmoid(self, Z):\n",
    "        return 1 / (1 + np.exp(-Z))\n",
    "    \n",
    "    def __softmax(self, Z):\n",
    "        return exp(Z);\n",
    "    \n",
    "    def __initialize_parameters(self, n_x, n_1):\n",
    "        W1 = np.random.randn(n_1, n_x) * 0.01\n",
    "        b1 = np.zeros((n_1, 1))\n",
    "        W2 = np.random.randn(1, n_1) * 0.01\n",
    "        b2 = 0\n",
    "        self.parameters = {\"W1\" : W1, \"b1\" : b1, \"W2\" : W2, \"b2\" : b2}\n",
    "       \n",
    "    def __forward_propagation(self, X):\n",
    "        W1 = self.parameters[\"W1\"]\n",
    "        b1 = self.parameters[\"b1\"]\n",
    "        W2 = self.parameters[\"W2\"]\n",
    "        b2 = self.parameters[\"b2\"]\n",
    "\n",
    "        Z1 = np.dot(W1, X) + b1\n",
    "        A1 = self.__sigmoid(Z1)\n",
    "\n",
    "        Z2 = np.dot(W2, A1) + b2\n",
    "        A2 = self.__sigmoid(Z2)\n",
    "\n",
    "        \n",
    "        cache = (W1, b1, W2, b2, Z1, A1, Z2, A2)\n",
    "\n",
    "        return A2, cache\n",
    "    \n",
    "    def compute_cost(self, A, Y):\n",
    "        m = Y.shape[1]\n",
    "        res = Y * np.log(A) + (1 - Y) * np.log(1 - A)\n",
    "        J = -(1 / m) * np.sum(res)\n",
    "        return J\n",
    "        \n",
    "    def __backward_propagation(self, X, Y, cache):\n",
    "        m = X.shape[1]\n",
    "        n = X.shape[0]\n",
    "        (W1, b1, W2, b2, Z1, A1, Z2, A2) = cache\n",
    "        \n",
    "        dZ2 = A2 - Y\n",
    "        dW2 = 1. / m * np.dot(dZ2, A1.T)\n",
    "        db2 = 1. / m * np.sum(dZ2, axis = 1, keepdims = True)\n",
    "        \n",
    "        dA1 = np.dot(W2.T, dZ2)\n",
    "        dZ1 = np.multiply(dA1, np.multiply(A1, 1 - A1))\n",
    "        dW1 = 1. / m * np.dot(dZ1, X.T)\n",
    "        db1 = 1. / m * np.sum(dZ1, axis = 1, keepdims = True)\n",
    "        \n",
    "\n",
    "        grads = {\"dZ1\" : dZ1, \"dW1\" : dW1, \"db1\" : db1, \"dZ2\" : dZ2, \"dW2\" : dW2, \"db2\" : db2}\n",
    "        return grads\n",
    "    \n",
    "    def __update_parameters(self, grads):\n",
    "        W1 = self.parameters[\"W1\"]\n",
    "        b1 = self.parameters[\"b1\"]\n",
    "        W2 = self.parameters[\"W2\"]\n",
    "        b2 = self.parameters[\"b2\"]\n",
    "\n",
    "        dW1 = grads[\"dW1\"]\n",
    "        db1 = grads[\"db1\"]\n",
    "        dW2 = grads[\"dW2\"]\n",
    "        db2 = grads[\"db2\"]\n",
    "        \n",
    "\n",
    "        self.parameters[\"W1\"] = W1 - self.learning_rate * dW1\n",
    "        self.parameters[\"b1\"] = b1 - self.learning_rate * db1\n",
    "        self.parameters[\"W2\"] = W2 - self.learning_rate * dW2\n",
    "        self.parameters[\"b2\"] = b2 - self.learning_rate * db2\n",
    "\n",
    "        \n",
    "    def fit(self, X_vert, Y_vert, print_cost = True):\n",
    "        \n",
    "        X, Y = X_vert.T, Y_vert.T\n",
    "        \n",
    "        if self.normalize:\n",
    "            X, self.__mean, self.__std = self.__normalize(X)\n",
    "        \n",
    "        costs = []\n",
    "        \n",
    "        m = X.shape[1]\n",
    "        n_x = X.shape[0]\n",
    "        \n",
    "        self.__initialize_parameters(n_x, 20)\n",
    "\n",
    "        for i in range(self.num_iter):\n",
    "            A, cache = self.__forward_propagation(X)\n",
    "\n",
    "            cost = self.compute_cost(A, Y)\n",
    "\n",
    "            grads = self.__backward_propagation(X, Y, cache)\n",
    "\n",
    "            self.__update_parameters(grads)\n",
    "\n",
    "            if print_cost and i % 1000 == 0:\n",
    "                print(\"{}-th iteration: {}\".format(i, cost))\n",
    "\n",
    "            if i % 1000 == 0:\n",
    "                costs.append(cost)\n",
    "\n",
    "        if print_cost:\n",
    "            plt.plot(costs)\n",
    "            plt.ylabel(\"Cost\")\n",
    "            plt.xlabel(\"Iteration, *1000\")\n",
    "            plt.show()\n",
    "    \n",
    "    def predict_proba(self, X_vert):\n",
    "        X = X_vert.T\n",
    "        if self.normalize:\n",
    "            X, _, _ = self.__normalize(X, self.__mean, self.__std)\n",
    "        \n",
    "        probs = self.__forward_propagation(X)[0]\n",
    "        \n",
    "        return np.column_stack((probs.T, 1 - probs.T))\n",
    "    \n",
    "    def predict(self, X_vert):\n",
    "        positive_probs = self.predict_proba(X_vert)[:, 0]\n",
    "        return (positive_probs >= 0.5).astype(int)   \n"
   ]
  },
  {
   "cell_type": "code",
   "execution_count": 5,
   "metadata": {},
   "outputs": [],
   "source": [
    "#data_columns = [\"exam1\", \"exam2\"]\n",
    "#target_column = \"submitted\"\n",
    "#df = pd.read_csv(\"sats.csv\")\n",
    "#X, Y = df[data_columns].values, df[target_column].reshape((df.shape[0], 1))\n",
    "#print('Training set: X={}, y={}'.format(X.shape, Y.shape))"
   ]
  },
  {
   "cell_type": "code",
   "execution_count": 6,
   "metadata": {},
   "outputs": [
    {
     "name": "stdout",
     "output_type": "stream",
     "text": [
      "Training set: X=(118, 2), y=(118,)\n"
     ]
    }
   ],
   "source": [
    "data_columns = [\"test1\", \"test2\"]\n",
    "target_column = \"passed\"\n",
    "df = pd.read_csv(\"tests.csv\")\n",
    "X, Y = df[data_columns].values, df[target_column]\n",
    "print('Training set: X={}, y={}'.format(X.shape, Y.shape))"
   ]
  },
  {
   "cell_type": "code",
   "execution_count": 7,
   "metadata": {},
   "outputs": [
    {
     "data": {
      "image/png": "[encoded data removed]",
      "text/plain": [
       "<Figure size 432x288 with 1 Axes>"
      ]
     },
     "metadata": {},
     "output_type": "display_data"
    }
   ],
   "source": [
    "plot_data(X, Y)"
   ]
  },
  {
   "cell_type": "code",
   "execution_count": 8,
   "metadata": {},
   "outputs": [],
   "source": [
    "cls = NeuralNet(normalize = True, learning_rate = 0.5, num_iter = 4000)"
   ]
  },
  {
   "cell_type": "code",
   "execution_count": 9,
   "metadata": {},
   "outputs": [
    {
     "name": "stdout",
     "output_type": "stream",
     "text": [
      "0-th iteration: 0.6934572394471675\n",
      "1000-th iteration: 0.6892700722511547\n",
      "2000-th iteration: 0.58145798723219\n",
      "3000-th iteration: 0.3939619880566762\n"
     ]
    },
    {
     "data": {
      "image/png": "[encoded data removed]",
      "text/plain": [
       "<Figure size 432x288 with 1 Axes>"
      ]
     },
     "metadata": {},
     "output_type": "display_data"
    }
   ],
   "source": [
    "cls.fit(X, Y.values.reshape((df.shape[0], 1)))"
   ]
  },
  {
   "cell_type": "code",
   "execution_count": 10,
   "metadata": {},
   "outputs": [
    {
     "name": "stdout",
     "output_type": "stream",
     "text": [
      "{'W1': array([[ 0.17822063,  0.13336529],\n",
      "       [ 0.99316016, -0.19281162],\n",
      "       [ 0.86276836, -0.23505125],\n",
      "       [ 0.65048348,  1.27926908],\n",
      "       [ 0.12442243,  0.33314721],\n",
      "       [ 0.25410741,  0.18658174],\n",
      "       [ 1.03062976, -0.08323603],\n",
      "       [ 0.02790963,  0.31366471],\n",
      "       [ 1.3474159 , -0.37588104],\n",
      "       [ 0.23887007,  0.12794319],\n",
      "       [ 0.9594891 , -0.23218989],\n",
      "       [ 0.24459962,  0.12681939],\n",
      "       [ 0.45942393, -3.52231996],\n",
      "       [ 0.18141843,  0.20954135],\n",
      "       [-0.37448373,  1.60956114],\n",
      "       [ 1.3185419 ,  0.23275438],\n",
      "       [ 0.13860324,  0.28611576],\n",
      "       [ 0.25615419, -1.62588316],\n",
      "       [ 1.86026783,  1.48820719],\n",
      "       [ 0.1793743 ,  0.22372717]]), 'b1': array([[-0.06230025],\n",
      "       [ 1.25606459],\n",
      "       [ 0.6684345 ],\n",
      "       [ 2.53112467],\n",
      "       [-0.13566091],\n",
      "       [-0.03833807],\n",
      "       [ 1.35751958],\n",
      "       [-0.17156233],\n",
      "       [ 3.45928177],\n",
      "       [ 0.11142453],\n",
      "       [ 1.57221538],\n",
      "       [ 0.05429658],\n",
      "       [-1.08161327],\n",
      "       [-0.00663545],\n",
      "       [-2.77631693],\n",
      "       [ 2.13506728],\n",
      "       [ 0.18008061],\n",
      "       [-3.90191468],\n",
      "       [-3.54499012],\n",
      "       [-0.01944311]]), 'W2': array([[-0.7630856 ,  1.32874103,  0.54140889,  3.07531722, -0.8590601 ,\n",
      "        -0.62141819,  1.448064  , -0.81941459,  3.87224997, -0.44220168,\n",
      "         1.67804651, -0.48766351, -3.91503777, -0.7962331 , -3.60955617,\n",
      "         2.50181478, -0.47073329, -6.62768109, -9.53330372, -0.80905981]]), 'b2': array([[-1.2711038]])}\n"
     ]
    }
   ],
   "source": [
    "print(cls.parameters)"
   ]
  },
  {
   "cell_type": "code",
   "execution_count": 16,
   "metadata": {},
   "outputs": [
    {
     "data": {
      "text/plain": [
       "array([[5.73975065e-01, 4.26024935e-01],\n",
       "       [8.45810212e-01, 1.54189788e-01],\n",
       "       [3.17449396e-01, 6.82550604e-01],\n",
       "       [1.50443871e-01, 8.49556129e-01],\n",
       "       [8.39625540e-02, 9.16037446e-01],\n",
       "       [8.57547611e-01, 1.42452389e-01],\n",
       "       [3.20378874e-02, 9.67962113e-01],\n",
       "       [2.32315896e-01, 7.67684104e-01],\n",
       "       [7.42336556e-01, 2.57663444e-01],\n",
       "       [9.48522879e-01, 5.14771208e-02],\n",
       "       [9.71058766e-01, 2.89412344e-02],\n",
       "       [2.72613700e-01, 7.27386300e-01],\n",
       "       [2.28040859e-01, 7.71959141e-01],\n",
       "       [1.07179908e-01, 8.92820092e-01],\n",
       "       [8.13999345e-01, 1.86000655e-01],\n",
       "       [1.93570146e-01, 8.06429854e-01],\n",
       "       [6.06939139e-01, 3.93060861e-01],\n",
       "       [8.44211887e-01, 1.55788113e-01],\n",
       "       [7.73049164e-01, 2.26950836e-01],\n",
       "       [1.59092362e-01, 8.40907638e-01],\n",
       "       [9.95482305e-01, 4.51769495e-03],\n",
       "       [8.76427374e-01, 1.23572626e-01],\n",
       "       [8.70281484e-01, 1.29718516e-01],\n",
       "       [5.17219072e-02, 9.48278093e-01],\n",
       "       [2.81438917e-01, 7.18561083e-01],\n",
       "       [8.30700647e-01, 1.69299353e-01],\n",
       "       [1.55158135e-01, 8.44841865e-01],\n",
       "       [3.28901431e-01, 6.71098569e-01],\n",
       "       [4.11891441e-01, 5.88108559e-01],\n",
       "       [8.54516265e-01, 1.45483735e-01],\n",
       "       [9.88095522e-01, 1.19044781e-02],\n",
       "       [5.20620403e-01, 4.79379597e-01],\n",
       "       [3.69063415e-01, 6.30936585e-01],\n",
       "       [9.56954696e-01, 4.30453038e-02],\n",
       "       [1.71238138e-02, 9.82876186e-01],\n",
       "       [6.89226362e-01, 3.10773638e-01],\n",
       "       [3.68304245e-01, 6.31695755e-01],\n",
       "       [6.23430080e-02, 9.37656992e-01],\n",
       "       [9.99158981e-01, 8.41018543e-04],\n",
       "       [7.28471586e-02, 9.27152841e-01],\n",
       "       [2.64087279e-02, 9.73591272e-01],\n",
       "       [6.17844692e-01, 3.82155308e-01],\n",
       "       [3.02927049e-02, 9.69707295e-01],\n",
       "       [2.48585042e-01, 7.51414958e-01],\n",
       "       [3.02278564e-01, 6.97721436e-01],\n",
       "       [9.58119832e-01, 4.18801681e-02],\n",
       "       [5.84356660e-02, 9.41564334e-01],\n",
       "       [1.19004904e-01, 8.80995096e-01],\n",
       "       [1.54162060e-01, 8.45837940e-01],\n",
       "       [1.93753745e-01, 8.06246255e-01],\n",
       "       [7.34254372e-01, 2.65745628e-01],\n",
       "       [2.02951601e-01, 7.97048399e-01],\n",
       "       [9.84976422e-01, 1.50235781e-02],\n",
       "       [4.18338633e-03, 9.95816614e-01],\n",
       "       [2.81795621e-01, 7.18204379e-01],\n",
       "       [1.38131318e-01, 8.61868682e-01],\n",
       "       [1.60622013e-02, 9.83937799e-01],\n",
       "       [6.06227898e-01, 3.93772102e-01],\n",
       "       [4.85461759e-01, 5.14538241e-01],\n",
       "       [8.19816133e-01, 1.80183867e-01],\n",
       "       [5.78835340e-01, 4.21164660e-01],\n",
       "       [9.91815100e-01, 8.18490046e-03],\n",
       "       [1.83570144e-02, 9.81642986e-01],\n",
       "       [3.91181429e-01, 6.08818571e-01],\n",
       "       [9.38361099e-01, 6.16389007e-02],\n",
       "       [9.35074891e-01, 6.49251086e-02],\n",
       "       [1.36514546e-02, 9.86348545e-01],\n",
       "       [2.78045476e-01, 7.21954524e-01],\n",
       "       [4.16005909e-01, 5.83994091e-01],\n",
       "       [2.34808810e-01, 7.65191190e-01],\n",
       "       [9.76963096e-01, 2.30369045e-02],\n",
       "       [3.60926790e-01, 6.39073210e-01],\n",
       "       [9.55805013e-01, 4.41949867e-02],\n",
       "       [8.12272905e-01, 1.87727095e-01],\n",
       "       [5.91685701e-01, 4.08314299e-01],\n",
       "       [9.97488103e-01, 2.51189740e-03],\n",
       "       [5.44800580e-01, 4.55199420e-01],\n",
       "       [7.70161836e-01, 2.29838164e-01],\n",
       "       [4.22491701e-01, 5.77508299e-01],\n",
       "       [7.33011434e-01, 2.66988566e-01],\n",
       "       [6.27866847e-02, 9.37213315e-01],\n",
       "       [9.94712240e-01, 5.28775994e-03],\n",
       "       [9.96663450e-01, 3.33655036e-03],\n",
       "       [3.88094747e-01, 6.11905253e-01],\n",
       "       [5.68294080e-01, 4.31705920e-01],\n",
       "       [5.10684410e-01, 4.89315590e-01],\n",
       "       [2.08034612e-01, 7.91965388e-01],\n",
       "       [1.20213817e-01, 8.79786183e-01],\n",
       "       [6.20956224e-01, 3.79043776e-01],\n",
       "       [1.14054006e-02, 9.88594599e-01],\n",
       "       [2.24611101e-01, 7.75388899e-01],\n",
       "       [9.54405362e-01, 4.55946379e-02],\n",
       "       [9.67799660e-01, 3.22003402e-02],\n",
       "       [1.86605393e-02, 9.81339461e-01],\n",
       "       [2.51258443e-01, 7.48741557e-01],\n",
       "       [8.84810751e-02, 9.11518925e-01],\n",
       "       [9.54300966e-01, 4.56990339e-02],\n",
       "       [9.16948124e-02, 9.08305188e-01],\n",
       "       [2.11458258e-01, 7.88541742e-01],\n",
       "       [6.06032389e-01, 3.93967611e-01],\n",
       "       [9.70908659e-01, 2.90913413e-02],\n",
       "       [9.68884303e-01, 3.11156966e-02],\n",
       "       [7.81219689e-01, 2.18780311e-01],\n",
       "       [3.86470818e-02, 9.61352918e-01],\n",
       "       [1.79677465e-02, 9.82032254e-01],\n",
       "       [9.47582244e-01, 5.24177560e-02],\n",
       "       [5.75208081e-02, 9.42479192e-01],\n",
       "       [6.08710844e-01, 3.91289156e-01],\n",
       "       [6.44280295e-01, 3.55719705e-01],\n",
       "       [9.87280404e-01, 1.27195962e-02],\n",
       "       [2.04979615e-01, 7.95020385e-01],\n",
       "       [7.98185199e-01, 2.01814801e-01],\n",
       "       [5.94595530e-02, 9.40540447e-01],\n",
       "       [9.89510058e-01, 1.04899422e-02],\n",
       "       [4.25703215e-01, 5.74296785e-01],\n",
       "       [8.47184432e-01, 1.52815568e-01],\n",
       "       [1.99568104e-01, 8.00431896e-01],\n",
       "       [1.40184782e-01, 8.59815218e-01]])"
      ]
     },
     "execution_count": 16,
     "metadata": {},
     "output_type": "execute_result"
    }
   ],
   "source": [
    "Y_prob = cls.predict_proba(X)\n",
    "Y_prob"
   ]
  },
  {
   "cell_type": "code",
   "execution_count": 17,
   "metadata": {},
   "outputs": [
    {
     "data": {
      "text/plain": [
       "array([1, 1, 0, 0, 0, 1, 0, 0, 1, 1, 1, 0, 0, 0, 1, 0, 1, 1, 1, 0, 1, 1,\n",
       "       1, 0, 0, 1, 0, 0, 0, 1, 1, 1, 0, 1, 0, 1, 0, 0, 1, 0, 0, 1, 0, 0,\n",
       "       0, 1, 0, 0, 0, 0, 1, 0, 1, 0, 0, 0, 0, 1, 0, 1, 1, 1, 0, 0, 1, 1,\n",
       "       0, 0, 0, 0, 1, 0, 1, 1, 1, 1, 1, 1, 0, 1, 0, 1, 1, 0, 1, 1, 0, 0,\n",
       "       1, 0, 0, 1, 1, 0, 0, 0, 1, 0, 0, 1, 1, 1, 1, 0, 0, 1, 0, 1, 1, 1,\n",
       "       0, 1, 0, 1, 0, 1, 0, 0])"
      ]
     },
     "execution_count": 17,
     "metadata": {},
     "output_type": "execute_result"
    }
   ],
   "source": [
    "Y_hat = cls.predict(X)\n",
    "Y_hat"
   ]
  },
  {
   "cell_type": "code",
   "execution_count": 18,
   "metadata": {},
   "outputs": [
    {
     "data": {
      "text/plain": [
       "0.8559322033898306"
      ]
     },
     "execution_count": 18,
     "metadata": {},
     "output_type": "execute_result"
    }
   ],
   "source": [
    "accuracy_score(Y, Y_hat)"
   ]
  },
  {
   "cell_type": "code",
   "execution_count": 19,
   "metadata": {},
   "outputs": [
    {
     "data": {
      "image/png": "[encoded data removed]",
      "text/plain": [
       "<Figure size 432x288 with 1 Axes>"
      ]
     },
     "metadata": {},
     "output_type": "display_data"
    }
   ],
   "source": [
    "plot_data(X, Y)\n",
    "plot_surface(cls, X[:, 0], X[:, 1])"
   ]
  },
  {
   "cell_type": "code",
   "execution_count": 49,
   "metadata": {},
   "outputs": [],
   "source": [
    "from sklearn.neural_network import MLPClassifier\n",
    "clf = MLPClassifier(hidden_layer_sizes = (20,), max_iter = 10000, activation = 'relu', solver = 'sgd', learning_rate_init = 0.01, learning_rate = 'constant')"
   ]
  },
  {
   "cell_type": "code",
   "execution_count": 50,
   "metadata": {},
   "outputs": [
    {
     "data": {
      "text/plain": [
       "MLPClassifier(activation='relu', alpha=0.0001, batch_size='auto', beta_1=0.9,\n",
       "       beta_2=0.999, early_stopping=False, epsilon=1e-08,\n",
       "       hidden_layer_sizes=(20,), learning_rate='constant',\n",
       "       learning_rate_init=0.01, max_iter=10000, momentum=0.9,\n",
       "       nesterovs_momentum=True, power_t=0.5, random_state=None,\n",
       "       shuffle=True, solver='sgd', tol=0.0001, validation_fraction=0.1,\n",
       "       verbose=False, warm_start=False)"
      ]
     },
     "execution_count": 50,
     "metadata": {},
     "output_type": "execute_result"
    }
   ],
   "source": [
    "clf.fit(X, Y)"
   ]
  },
  {
   "cell_type": "code",
   "execution_count": 51,
   "metadata": {},
   "outputs": [
    {
     "data": {
      "image/png": "[encoded data removed]",
      "text/plain": [
       "<Figure size 432x288 with 1 Axes>"
      ]
     },
     "metadata": {},
     "output_type": "display_data"
    }
   ],
   "source": [
    "plot_data(X, Y)\n",
    "plot_surface(clf, X[:, 0], X[:, 1])"
   ]
  },
  {
   "cell_type": "code",
   "execution_count": 48,
   "metadata": {},
   "outputs": [
    {
     "data": {
      "text/plain": [
       "0.864406779661017"
      ]
     },
     "execution_count": 48,
     "metadata": {},
     "output_type": "execute_result"
    }
   ],
   "source": [
    "accuracy_score(Y, clf.predict(X))"
   ]
  },
  {
   "cell_type": "code",
   "execution_count": null,
   "metadata": {
    "collapsed": true
   },
   "outputs": [],
   "source": []
  }
 ],
 "metadata": {
  "anaconda-cloud": {},
  "kernelspec": {
   "display_name": "Python 3",
   "language": "python",
   "name": "python3"
  },
  "language_info": {
   "codemirror_mode": {
    "name": "ipython",
    "version": 3
   },
   "file_extension": ".py",
   "mimetype": "text/x-python",
   "name": "python",
   "nbconvert_exporter": "python",
   "pygments_lexer": "ipython3",
   "version": "3.7.1"
  }
 },
 "nbformat": 4,
 "nbformat_minor": 1
}
