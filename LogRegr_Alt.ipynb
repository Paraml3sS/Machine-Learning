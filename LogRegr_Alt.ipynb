{
 "cells": [
  {
   "cell_type": "code",
   "execution_count": 1,
   "metadata": {},
   "outputs": [],
   "source": [
    "import numpy as np\n",
    "import pandas as pd\n",
    "from sklearn.model_selection import train_test_split\n",
    "from mpl_toolkits.mplot3d import Axes3D\n",
    "import matplotlib.pyplot as plt\n",
    "\n",
    "from matplotlib.colors import ListedColormap\n",
    "cm_bright = ListedColormap(['#FF0000', '#0000FF'])\n",
    "%matplotlib inline"
   ]
  },
  {
   "cell_type": "code",
   "execution_count": 2,
   "metadata": {},
   "outputs": [],
   "source": [
    "def normalize(X):\n",
    "    n = X.shape[0]\n",
    "    mean = np.mean(X, axis=1).reshape((n, 1))\n",
    "    std = np.std(X, axis=1).reshape((n, 1))\n",
    "    X_new = (X - mean) / std**2\n",
    "    return X_new, mean, std"
   ]
  },
  {
   "cell_type": "code",
   "execution_count": 3,
   "metadata": {},
   "outputs": [],
   "source": [
    "def sigmoid(Z):\n",
    "    return 1 / (1 + np.exp(-Z))"
   ]
  },
  {
   "cell_type": "code",
   "execution_count": 4,
   "metadata": {},
   "outputs": [],
   "source": [
    "def plot_data(X, y):\n",
    "    ax = plt.gca()\n",
    "    ax.scatter(X[:,0], X[:,1], c=(y == 1), cmap=cm_bright)"
   ]
  },
  {
   "cell_type": "code",
   "execution_count": 5,
   "metadata": {},
   "outputs": [],
   "source": [
    "def fwd_pass(X, params):\n",
    "    W = params[\"W\"]\n",
    "    b = params[\"b\"]\n",
    "    \n",
    "    Z = np.dot(W, X) + b\n",
    "    A = sigmoid(Z)\n",
    "    \n",
    "    cache = (W, b, Z, A)\n",
    "    \n",
    "    return A, cache"
   ]
  },
  {
   "cell_type": "code",
   "execution_count": 6,
   "metadata": {},
   "outputs": [],
   "source": [
    "def cost(A, Y):\n",
    "    m = Y.shape[1]\n",
    "    \n",
    "    L = - Y * np.log(A) - (1 - Y) * np.log(1 - A)\n",
    "    J = np.sum(L) / m\n",
    "    \n",
    "    return J"
   ]
  },
  {
   "cell_type": "code",
   "execution_count": 7,
   "metadata": {},
   "outputs": [],
   "source": [
    "def bwd_pass(X, Y, cache):\n",
    "    n, m = X.shape\n",
    "    (W, b, Z, A) = cache\n",
    "    \n",
    "    dZ = A - Y\n",
    "    dW = 1. / m * np.dot(X, dZ.T).reshape((1, n))\n",
    "    db = 1. / m * np.sum(dZ)\n",
    "    \n",
    "    grads = {\"dW\" : dW, \"db\" : db, \"dZ\" : dZ}\n",
    "    return grads"
   ]
  },
  {
   "cell_type": "code",
   "execution_count": 8,
   "metadata": {},
   "outputs": [],
   "source": [
    "def init_params(n, m):\n",
    "    W = np.random.randn(1, n) * 0.01\n",
    "    b = 0\n",
    "    \n",
    "    params = {\"W\" : W, \"b\" : b}\n",
    "    return params"
   ]
  },
  {
   "cell_type": "code",
   "execution_count": 9,
   "metadata": {},
   "outputs": [],
   "source": [
    "def update_params(params, grads, learning_rate):\n",
    "    W = params[\"W\"]\n",
    "    b = params[\"b\"]\n",
    "    \n",
    "    dW = grads[\"dW\"]\n",
    "    db = grads[\"db\"]\n",
    "    \n",
    "    params[\"W\"] = W - learning_rate * dW\n",
    "    params[\"b\"] = b - learning_rate * db\n",
    "    \n",
    "    return params"
   ]
  },
  {
   "cell_type": "code",
   "execution_count": 10,
   "metadata": {},
   "outputs": [],
   "source": [
    "def fit(X, Y, learning_rate = 0.01, num_iter = 30000, debug = False):\n",
    "    n, m = X.shape \n",
    "    params = init_params(n, m)\n",
    "    costs = []\n",
    "    for i in range(num_iter):\n",
    "        A, cache = fwd_pass(X, params)\n",
    "        curr_cost = cost(A, Y)\n",
    "        grads = bwd_pass(X, Y, cache)\n",
    "        \n",
    "        params = update_params(params, grads, learning_rate)\n",
    "        \n",
    "        if debug and i % 1000 == 0:\n",
    "            print(\"{}-th iteration: {}\".format(i, curr_cost))\n",
    "            costs.append(curr_cost)\n",
    "    \n",
    "    plt.plot(costs)\n",
    "    plt.ylabel(\"Cost\")\n",
    "    plt.xlabel(\"Iteration, *1000\")\n",
    "    plt.show()\n",
    "    \n",
    "    return params    "
   ]
  },
  {
   "cell_type": "code",
   "execution_count": 11,
   "metadata": {},
   "outputs": [
    {
     "name": "stdout",
     "output_type": "stream",
     "text": [
      "Training set: X=(100, 2), y=(100,)\n"
     ]
    }
   ],
   "source": [
    "data_columns = [\"exam1\", \"exam2\"]\n",
    "target_column = \"submitted\"\n",
    "df = pd.read_csv(\"sats.csv\")\n",
    "X, Y = df[data_columns].values, df[target_column]\n",
    "print('Training set: X={}, y={}'.format(X.shape, Y.shape))"
   ]
  },
  {
   "cell_type": "code",
   "execution_count": 12,
   "metadata": {},
   "outputs": [
    {
     "data": {
      "image/png": "[encoded data removed]",
      "text/plain": [
       "<Figure size 432x288 with 1 Axes>"
      ]
     },
     "metadata": {},
     "output_type": "display_data"
    }
   ],
   "source": [
    "plot_data(X, Y)"
   ]
  },
  {
   "cell_type": "code",
   "execution_count": 13,
   "metadata": {},
   "outputs": [],
   "source": [
    "Y = Y.values.reshape((df.shape[0], 1))"
   ]
  },
  {
   "cell_type": "code",
   "execution_count": 14,
   "metadata": {},
   "outputs": [
    {
     "name": "stdout",
     "output_type": "stream",
     "text": [
      "[[34.62365962 30.28671077 35.84740877 60.18259939 79.03273605 45.08327748\n",
      "  61.10666454 75.02474557 76.0987867  84.43281996 95.86155507 75.01365839\n",
      "  82.30705337 69.36458876 39.53833914 53.97105215 69.07014406 67.94685548\n",
      "  70.66150955 76.97878373 67.37202755 89.67677575 50.53478829 34.21206098\n",
      "  77.92409145 62.27101367 80.19018075 93.1143888  61.83020602 38.7858038\n",
      "  61.37928945 85.40451939 52.10797973 52.04540477 40.23689374 54.63510555\n",
      "  33.91550011 64.17698887 74.78925296 34.18364003 83.90239366 51.54772027\n",
      "  94.44336777 82.36875376 51.04775177 62.22267576 77.19303493 97.77159928\n",
      "  62.0730638  91.5649745  79.94481794 99.27252693 90.54671411 34.52451385\n",
      "  50.28649612 49.58667722 97.64563396 32.57720017 74.24869137 71.79646206\n",
      "  75.39561147 35.28611282 56.2538175  30.05882245 44.66826172 66.56089447\n",
      "  40.45755098 49.07256322 80.27957401 66.74671857 32.72283304 64.03932042\n",
      "  72.34649423 60.45788574 58.84095622 99.8278578  47.26426911 50.4581598\n",
      "  60.45555629 82.22666158 88.91389642 94.83450672 67.31925747 57.23870632\n",
      "  80.366756   68.46852179 42.07545454 75.47770201 78.63542435 52.34800399\n",
      "  94.09433113 90.44855097 55.48216114 74.49269242 89.84580671 83.48916274\n",
      "  42.26170081 99.31500881 55.34001756 74.775893  ]\n",
      " [78.02469282 43.89499752 72.90219803 86.3085521  75.34437644 56.31637178\n",
      "  96.51142588 46.55401354 87.42056972 43.53339331 38.22527806 30.60326323\n",
      "  76.4819633  97.71869196 76.03681085 89.20735014 52.74046973 46.67857411\n",
      "  92.92713789 47.57596365 42.83843832 65.79936593 48.85581153 44.2095286\n",
      "  68.97235999 69.95445795 44.82162893 38.80067034 50.25610789 64.99568096\n",
      "  72.80788731 57.05198398 63.12762377 69.43286012 71.16774802 52.21388588\n",
      "  98.86943574 80.90806059 41.57341523 75.23772034 56.30804622 46.85629026\n",
      "  65.56892161 40.61825516 45.82270146 52.06099195 70.4582     86.72782233\n",
      "  96.76882412 88.69629255 74.16311935 60.999031   43.39060181 60.39634246\n",
      "  49.80453881 59.80895099 68.86157272 95.59854761 69.82457123 78.45356225\n",
      "  85.75993667 47.02051395 39.26147251 49.59297387 66.45008615 41.09209808\n",
      "  97.53518549 51.88321182 92.11606081 60.99139403 43.30717306 78.03168802\n",
      "  96.22759297 73.0949981  75.85844831 72.36925193 88.475865   75.80985953\n",
      "  42.50840944 42.71987854 69.8037889  45.6943068  66.58935318 59.51428198\n",
      "  90.9601479  85.5943071  78.844786   90.424539   96.64742717 60.76950526\n",
      "  77.15910509 87.50879176 35.57070347 84.84513685 45.35828361 48.3802858\n",
      "  87.10385094 68.77540947 64.93193801 89.5298129 ]]\n",
      "[[0 0 0 1 1 0 1 1 1 1 0 0 1 1 0 1 1 0 1 1 0 1 0 0 1 1 1 0 0 0 1 1 0 1 0 0\n",
      "  0 1 0 0 1 0 1 0 0 0 1 1 1 1 1 1 1 0 0 0 1 0 1 1 1 0 0 0 0 0 1 0 1 1 0 1\n",
      "  1 1 1 1 1 1 0 0 1 1 1 1 1 1 0 1 1 0 1 1 0 1 1 1 1 1 1 1]]\n",
      "X: (2, 100)\n",
      "y: (1, 100)\n"
     ]
    }
   ],
   "source": [
    "X, Y = X.T, Y.T\n",
    "\n",
    "print(X)\n",
    "print(Y)\n",
    "\n",
    "print('X: {}'.format(X.shape))\n",
    "print('y: {}'.format(Y.shape))"
   ]
  },
  {
   "cell_type": "code",
   "execution_count": 15,
   "metadata": {},
   "outputs": [],
   "source": [
    "X, mean, std = normalize(X)"
   ]
  },
  {
   "cell_type": "code",
   "execution_count": 16,
   "metadata": {},
   "outputs": [
    {
     "data": {
      "text/plain": [
       "array([[-0.08275779, -0.09432804, -0.07949303, -0.01457083,  0.03571817],\n",
       "       [ 0.03452427, -0.0653091 ,  0.01954037,  0.05875553,  0.02668403]])"
      ]
     },
     "execution_count": 16,
     "metadata": {},
     "output_type": "execute_result"
    }
   ],
   "source": [
    "X[:,:5]"
   ]
  },
  {
   "cell_type": "code",
   "execution_count": 17,
   "metadata": {},
   "outputs": [
    {
     "data": {
      "text/plain": [
       "(1, 100)"
      ]
     },
     "execution_count": 17,
     "metadata": {},
     "output_type": "execute_result"
    }
   ],
   "source": [
    "Y.shape"
   ]
  },
  {
   "cell_type": "code",
   "execution_count": 18,
   "metadata": {},
   "outputs": [
    {
     "data": {
      "text/plain": [
       "array([[65.64427406],\n",
       "       [66.22199809]])"
      ]
     },
     "execution_count": 18,
     "metadata": {},
     "output_type": "execute_result"
    }
   ],
   "source": [
    "mean"
   ]
  },
  {
   "cell_type": "code",
   "execution_count": 19,
   "metadata": {},
   "outputs": [
    {
     "data": {
      "text/plain": [
       "array([[19.36068671],\n",
       "       [18.48963567]])"
      ]
     },
     "execution_count": 19,
     "metadata": {},
     "output_type": "execute_result"
    }
   ],
   "source": [
    "std"
   ]
  },
  {
   "cell_type": "code",
   "execution_count": 20,
   "metadata": {},
   "outputs": [
    {
     "name": "stdout",
     "output_type": "stream",
     "text": [
      "0-th iteration: 0.693155646835711\n",
      "1000-th iteration: 0.6359627550955512\n",
      "2000-th iteration: 0.6034214967268932\n",
      "3000-th iteration: 0.5747943898343506\n",
      "4000-th iteration: 0.5495408549044091\n",
      "5000-th iteration: 0.527186488291204\n",
      "6000-th iteration: 0.5073214805480976\n",
      "7000-th iteration: 0.4895955448125686\n",
      "8000-th iteration: 0.47371123712599794\n",
      "9000-th iteration: 0.4594168854428432\n",
      "10000-th iteration: 0.44649982742045746\n",
      "11000-th iteration: 0.43478030360978176\n",
      "12000-th iteration: 0.42410613303581285\n",
      "13000-th iteration: 0.4143481735648555\n",
      "14000-th iteration: 0.40539650632804675\n",
      "15000-th iteration: 0.39715725726628187\n",
      "16000-th iteration: 0.3895499633021357\n",
      "17000-th iteration: 0.3825053956411972\n",
      "18000-th iteration: 0.37596376235035683\n",
      "19000-th iteration: 0.36987322338751616\n",
      "20000-th iteration: 0.36418866198758976\n",
      "21000-th iteration: 0.35887066597829836\n",
      "22000-th iteration: 0.3538846809421359\n",
      "23000-th iteration: 0.3492003041523512\n",
      "24000-th iteration: 0.3447906940058543\n",
      "25000-th iteration: 0.3406320744149612\n",
      "26000-th iteration: 0.33670331746964494\n",
      "27000-th iteration: 0.3329855907970387\n",
      "28000-th iteration: 0.32946205856061134\n",
      "29000-th iteration: 0.3261176270718034\n",
      "30000-th iteration: 0.3229387276262653\n",
      "31000-th iteration: 0.31991313050205344\n",
      "32000-th iteration: 0.3170297851302352\n",
      "33000-th iteration: 0.3142786823191198\n",
      "34000-th iteration: 0.3116507351216587\n",
      "35000-th iteration: 0.30913767551324495\n",
      "36000-th iteration: 0.30673196451960094\n",
      "37000-th iteration: 0.304426713821953\n",
      "38000-th iteration: 0.302215617185475\n",
      "39000-th iteration: 0.3000928903200033\n",
      "40000-th iteration: 0.2980532179996883\n",
      "41000-th iteration: 0.2960917074489212\n",
      "42000-th iteration: 0.29420384715228404\n",
      "43000-th iteration: 0.2923854703718508\n",
      "44000-th iteration: 0.29063272276033925\n",
      "45000-th iteration: 0.2889420335469183\n",
      "46000-th iteration: 0.28731008984685\n",
      "47000-th iteration: 0.28573381370895296\n",
      "48000-th iteration: 0.28421034156804453\n",
      "49000-th iteration: 0.2827370058146767\n",
      "50000-th iteration: 0.2813113182329002\n",
      "51000-th iteration: 0.27993095508958726\n",
      "52000-th iteration: 0.27859374368689677\n",
      "53000-th iteration: 0.27729765021351505\n",
      "54000-th iteration: 0.2760407687509855\n",
      "55000-th iteration: 0.27482131130924775\n",
      "56000-th iteration: 0.2736375987808853\n",
      "57000-th iteration: 0.2724880527168938\n",
      "58000-th iteration: 0.2713711878383151\n",
      "59000-th iteration: 0.2702856052081108\n",
      "60000-th iteration: 0.2692299859963849\n",
      "61000-th iteration: 0.26820308577967583\n",
      "62000-th iteration: 0.26720372932170355\n",
      "63000-th iteration: 0.26623080578878416\n",
      "64000-th iteration: 0.2652832643582411\n",
      "65000-th iteration: 0.26436011018264405\n",
      "66000-th iteration: 0.2634604006766622\n",
      "67000-th iteration: 0.26258324209681133\n",
      "68000-th iteration: 0.26172778638746164\n",
      "69000-th iteration: 0.2608932282692059\n",
      "70000-th iteration: 0.26007880254809906\n",
      "71000-th iteration: 0.2592837816264406\n",
      "72000-th iteration: 0.2585074731976742\n",
      "73000-th iteration: 0.25774921810967555\n",
      "74000-th iteration: 0.2570083883822285\n",
      "75000-th iteration: 0.25628438536583065\n",
      "76000-th iteration: 0.2555766380301877\n",
      "77000-th iteration: 0.2548846013718378\n",
      "78000-th iteration: 0.2542077549313156\n",
      "79000-th iteration: 0.25354560141114724\n",
      "80000-th iteration: 0.25289766538674\n",
      "81000-th iteration: 0.2522634921029431\n",
      "82000-th iteration: 0.25164264634969336\n",
      "83000-th iteration: 0.2510347114107252\n",
      "84000-th iteration: 0.25043928807985166\n",
      "85000-th iteration: 0.24985599373978482\n",
      "86000-th iteration: 0.24928446149888955\n",
      "87000-th iteration: 0.24872433938165264\n",
      "88000-th iteration: 0.24817528956898893\n",
      "89000-th iteration: 0.2476369876848348\n",
      "90000-th iteration: 0.24710912212575453\n",
      "91000-th iteration: 0.2465913934305549\n",
      "92000-th iteration: 0.2460835136871379\n",
      "93000-th iteration: 0.24558520597404407\n",
      "94000-th iteration: 0.24509620383432523\n",
      "95000-th iteration: 0.24461625077958363\n",
      "96000-th iteration: 0.24414509982216334\n",
      "97000-th iteration: 0.24368251303364297\n",
      "98000-th iteration: 0.24322826112791307\n",
      "99000-th iteration: 0.24278212306724573\n",
      "100000-th iteration: 0.24234388568988707\n",
      "101000-th iteration: 0.24191334335780668\n",
      "102000-th iteration: 0.24149029762333307\n",
      "103000-th iteration: 0.24107455691350538\n",
      "104000-th iteration: 0.24066593623103966\n",
      "105000-th iteration: 0.24026425687090033\n",
      "106000-th iteration: 0.23986934615152433\n",
      "107000-th iteration: 0.23948103715982216\n",
      "108000-th iteration: 0.23909916850913304\n",
      "109000-th iteration: 0.23872358410936795\n",
      "110000-th iteration: 0.23835413294862723\n",
      "111000-th iteration: 0.23799066888562964\n",
      "112000-th iteration: 0.237633050452324\n",
      "113000-th iteration: 0.23728114066611034\n",
      "114000-th iteration: 0.23693480685111803\n",
      "115000-th iteration: 0.23659392046803837\n",
      "116000-th iteration: 0.2362583569520337\n",
      "117000-th iteration: 0.23592799555827515\n",
      "118000-th iteration: 0.23560271921469295\n",
      "119000-th iteration: 0.2352824143815466\n",
      "120000-th iteration: 0.23496697091744712\n",
      "121000-th iteration: 0.23465628195148647\n",
      "122000-th iteration: 0.23435024376114935\n",
      "123000-th iteration: 0.23404875565570285\n",
      "124000-th iteration: 0.23375171986477938\n",
      "125000-th iteration: 0.23345904143188087\n",
      "126000-th iteration: 0.23317062811255226\n",
      "127000-th iteration: 0.2328863902769863\n",
      "128000-th iteration: 0.2326062408168336\n",
      "129000-th iteration: 0.23233009505600877\n",
      "130000-th iteration: 0.23205787066528813\n",
      "131000-th iteration: 0.23178948758051787\n",
      "132000-th iteration: 0.23152486792424842\n",
      "133000-th iteration: 0.23126393593063163\n",
      "134000-th iteration: 0.23100661787342086\n",
      "135000-th iteration: 0.2307528419969245\n",
      "136000-th iteration: 0.23050253844977228\n",
      "137000-th iteration: 0.23025563922136133\n",
      "138000-th iteration: 0.23001207808085197\n",
      "139000-th iteration: 0.22977179051859994\n",
      "140000-th iteration: 0.22953471368990544\n",
      "141000-th iteration: 0.22930078636097564\n",
      "142000-th iteration: 0.2290699488569998\n",
      "143000-th iteration: 0.22884214301223632\n",
      "144000-th iteration: 0.22861731212202505\n",
      "145000-th iteration: 0.2283954008966373\n",
      "146000-th iteration: 0.2281763554168792\n",
      "147000-th iteration: 0.2279601230913735\n",
      "148000-th iteration: 0.22774665261544377\n",
      "149000-th iteration: 0.22753589393153179\n",
      "150000-th iteration: 0.2273277981910811\n",
      "151000-th iteration: 0.227122317717824\n",
      "152000-th iteration: 0.22691940597240973\n",
      "153000-th iteration: 0.22671901751831938\n",
      "154000-th iteration: 0.22652110798901096\n",
      "155000-th iteration: 0.22632563405624237\n",
      "156000-th iteration: 0.22613255339952587\n",
      "157000-th iteration: 0.2259418246766629\n",
      "158000-th iteration: 0.22575340749531767\n",
      "159000-th iteration: 0.22556726238558494\n",
      "160000-th iteration: 0.22538335077351346\n",
      "161000-th iteration: 0.2252016349555432\n",
      "162000-th iteration: 0.22502207807382202\n",
      "163000-th iteration: 0.22484464409236563\n",
      "164000-th iteration: 0.22466929777402686\n",
      "165000-th iteration: 0.2244960046582429\n",
      "166000-th iteration: 0.22432473103952805\n",
      "167000-th iteration: 0.22415544394668607\n",
      "168000-th iteration: 0.22398811112271008\n",
      "169000-th iteration: 0.2238227010053474\n",
      "170000-th iteration: 0.22365918270829874\n",
      "171000-th iteration: 0.2234975260030334\n",
      "172000-th iteration: 0.22333770130119196\n",
      "173000-th iteration: 0.2231796796375572\n",
      "174000-th iteration: 0.22302343265357039\n",
      "175000-th iteration: 0.2228689325813726\n",
      "176000-th iteration: 0.22271615222835264\n",
      "177000-th iteration: 0.22256506496218212\n",
      "178000-th iteration: 0.2224156446963177\n",
      "179000-th iteration: 0.2222678658759588\n",
      "180000-th iteration: 0.22212170346443771\n",
      "181000-th iteration: 0.22197713293002985\n",
      "182000-th iteration: 0.22183413023317\n",
      "183000-th iteration: 0.22169267181405813\n",
      "184000-th iteration: 0.22155273458064\n",
      "185000-th iteration: 0.22141429589695188\n",
      "186000-th iteration: 0.22127733357181537\n",
      "187000-th iteration: 0.22114182584786865\n",
      "188000-th iteration: 0.22100775139092493\n",
      "189000-th iteration: 0.22087508927964505\n",
      "190000-th iteration: 0.2207438189955138\n",
      "191000-th iteration: 0.22061392041310895\n",
      "192000-th iteration: 0.22048537379065444\n",
      "193000-th iteration: 0.220358159760846\n",
      "194000-th iteration: 0.22023225932194346\n",
      "195000-th iteration: 0.220107653829115\n",
      "196000-th iteration: 0.21998432498603107\n",
      "197000-th iteration: 0.21986225483669572\n",
      "198000-th iteration: 0.2197414257575085\n",
      "199000-th iteration: 0.21962182044955103\n"
     ]
    },
    {
     "data": {
      "image/png": "[encoded data removed]",
      "text/plain": [
       "<Figure size 432x288 with 1 Axes>"
      ]
     },
     "metadata": {},
     "output_type": "display_data"
    }
   ],
   "source": [
    "params = fit(X, Y, learning_rate = 0.1, num_iter = 200000, debug = True)"
   ]
  },
  {
   "cell_type": "code",
   "execution_count": 21,
   "metadata": {},
   "outputs": [
    {
     "name": "stdout",
     "output_type": "stream",
     "text": [
      "{'W': array([[50.95813605, 44.89551154]]), 'b': 1.1463182538519203}\n"
     ]
    }
   ],
   "source": [
    "print(params)"
   ]
  },
  {
   "cell_type": "code",
   "execution_count": null,
   "metadata": {},
   "outputs": [],
   "source": []
  }
 ],
 "metadata": {
  "kernelspec": {
   "display_name": "Python 3",
   "language": "python",
   "name": "python3"
  },
  "language_info": {
   "codemirror_mode": {
    "name": "ipython",
    "version": 3
   },
   "file_extension": ".py",
   "mimetype": "text/x-python",
   "name": "python",
   "nbconvert_exporter": "python",
   "pygments_lexer": "ipython3",
   "version": "3.6.5"
  }
 },
 "nbformat": 4,
 "nbformat_minor": 1
}
